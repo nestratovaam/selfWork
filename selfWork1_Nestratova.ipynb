{
  "nbformat": 4,
  "nbformat_minor": 0,
  "metadata": {
    "colab": {
      "name": "selfWork1_Nestratova.ipynb",
      "provenance": []
    },
    "kernelspec": {
      "name": "python3",
      "display_name": "Python 3"
    }
  },
  "cells": [
    {
      "cell_type": "markdown",
      "metadata": {
        "id": "STfE64TpGJnD"
      },
      "source": [
        "# Самостоятельная 1. Вариант 1"
      ]
    },
    {
      "cell_type": "markdown",
      "metadata": {
        "id": "-9EP3ZoEF2z6"
      },
      "source": [
        "Задание:\r\n",
        "Дата (три числа): день, месяц, год\r\n",
        "Определить, является ли год високосным (кратным 4)\r\n",
        "Увеличить дату на 5 дней \r\n"
      ]
    },
    {
      "cell_type": "code",
      "metadata": {
        "id": "BJDi4a3iQdaU"
      },
      "source": [
        "class Date():\r\n",
        "  def __init__(self, d, m, y):\r\n",
        "    self.day = d\r\n",
        "    self.month = m\r\n",
        "    self.year = y\r\n",
        "\r\n",
        "  def __del__(self):\r\n",
        "    print('Delete date', self.day, self.month, self.year)\r\n",
        " \r\n",
        "  def is_V(self):\r\n",
        "    print('Input year:', self.day, self.month, self.year)\r\n",
        "    fl = False\r\n",
        "    if self.year % 4 == 0:\r\n",
        "      fl = True\r\n",
        "      print('This is leap year')\r\n",
        "    else:\r\n",
        "      print('This is not leap year')\r\n",
        "    return fl\r\n",
        "     \r\n",
        "  def plus_five(self):\r\n",
        "    days = [31, 28, 31, 30, 31, 30, 31, 31, 30, 31, 30, 31]\r\n",
        "    plus = 5\r\n",
        "    if fl == True:\r\n",
        "      days[1] = 29\r\n",
        "    if self.month == 12 and self.day + 5 > days[self.month - 1]:\r\n",
        "      self.year += 1\r\n",
        "      self.day = self.day - days[self.month - 1] + plus\r\n",
        "      self.month = 1\r\n",
        "    elif self.day + plus > days[self.month - 1]:\r\n",
        "      self.day = self.day - days[self.month - 1] + plus\r\n",
        "      self.month += 1\r\n",
        "    else:\r\n",
        "      self.day += 5\r\n",
        "    return  print('New date:', self.day, self.month, self.year)"
      ],
      "execution_count": 58,
      "outputs": []
    },
    {
      "cell_type": "code",
      "metadata": {
        "id": "3AmXfzMs2MoK"
      },
      "source": [
        "def typing():\r\n",
        "  d = int(input('Day '))\r\n",
        "  while (d > 31) or (d < 1):\r\n",
        "    print('Try again')\r\n",
        "    d = int(input('Day '))\r\n",
        "  m = int(input('Month '))\r\n",
        "  while (m > 12) or (m < 1):\r\n",
        "    print('Try again')\r\n",
        "    m = int(input('Month '))\r\n",
        "  y = int(input('Year '))\r\n",
        "\r\n",
        "  return d, m, y"
      ],
      "execution_count": 76,
      "outputs": []
    },
    {
      "cell_type": "code",
      "metadata": {
        "colab": {
          "base_uri": "https://localhost:8080/"
        },
        "id": "qxSZGjI1W4lm",
        "outputId": "4747e96e-6720-4985-cf91-c2e1fb0fa2af"
      },
      "source": [
        "\r\n",
        "newdate = typing()\r\n",
        "date = Date(newdate[0], newdate[1], newdate[2])\r\n",
        "date.is_V()\r\n",
        "date.plus_five()\r\n",
        "del date\r\n",
        "  "
      ],
      "execution_count": 79,
      "outputs": [
        {
          "output_type": "stream",
          "text": [
            "Day 3\n",
            "Month 4\n",
            "Year 2020\n",
            "Input year: 3 4 2020\n",
            "This is leap year\n",
            "New date: 8 4 2020\n",
            "Delete date 8 4 2020\n"
          ],
          "name": "stdout"
        }
      ]
    }
  ]
}